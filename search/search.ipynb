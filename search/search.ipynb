{
 "cells": [
  {
   "cell_type": "code",
   "execution_count": 1,
   "metadata": {},
   "outputs": [],
   "source": [
    "import requests\n",
    "import matplotlib.pyplot as plt\n",
    "from PIL import Image\n",
    "from io import BytesIO\n",
    "from requests import exceptions\n",
    "from time import sleep"
   ]
  },
  {
   "cell_type": "code",
   "execution_count": 8,
   "metadata": {},
   "outputs": [],
   "source": [
    "def search_images(search_term, page, folder, max_results=250, group_size=50, total=0):\n",
    "    ''' Search Bing API for images.\n",
    "    max_n: is the number of images to download,\n",
    "    count: number of queries per page,\n",
    "    search_term: query to search for in Bing Images\n",
    "    page: start page,\n",
    "    folder: path to repo\n",
    "    '''\n",
    "\n",
    "    subscription_key = open('/Users/angela/Documents/Resources/azure.txt', 'r').read().strip()\n",
    "    search_url = 'https://api.cognitive.microsoft.com/bing/v7.0/images/search'\n",
    "\n",
    "    exceptions = set([IOError, FileNotFoundError,\n",
    "                      exceptions.RequestException, exceptions.HTTPError,\n",
    "                      exceptions.ConnectionError, exceptions.Timeout])\n",
    "\n",
    "    headers = {\"Ocp-Apim-Subscription-Key\" : subscription_key}\n",
    "\n",
    "    params = {'q': search_term, 'offset': page, 'count': group_size, 'imageType': 'photo'}\n",
    "\n",
    "    for offset in range(page, max_results, group_size):\n",
    "        print(f'Making request for group {offset}-{offset + group_size} of {max_results}...')\n",
    "        params['offset'] = offset\n",
    "        res = requests.get(search_url, headers=headers, params=params)\n",
    "        res.raise_for_status()\n",
    "        search_results = res.json()\n",
    "        print(f'Saving images for group {offset}-{offset + group_size} of {max_results}...')\n",
    "\n",
    "        # loop over the results\n",
    "        for v in search_results['value']:\n",
    "            try:\n",
    "                # make a request to download the image\n",
    "                print('Downloading: {}'.format(v['contentUrl']))\n",
    "                r = requests.get(v['contentUrl'], timeout=30)\n",
    "\n",
    "                # build the path to the output image\n",
    "                ext = v['contentUrl'][v['contentUrl'].rfind('.'):]\n",
    "                p = os.path.sep.join([folder, f'{str(total).zfill(8)}{ext}'])\n",
    "\n",
    "                # write the image to disk\n",
    "                f = open(p, \"wb\")\n",
    "                f.write(r.content)\n",
    "                f.close()\n",
    "\n",
    "            # catch any errors that would not unable us to download the image\n",
    "            except Exception as e:\n",
    "                if type(e) in exceptions:\n",
    "                    print('Skipping: {}'.format(v['contentUrl']))\n",
    "                    continue\n",
    "\n",
    "            total += 1\n",
    "            sleep(3)\n",
    "    print(f'Total images downloaded: {total}')"
   ]
  }
 ],
 "metadata": {
  "kernelspec": {
   "display_name": "Python 3",
   "language": "python",
   "name": "python3"
  },
  "language_info": {
   "codemirror_mode": {
    "name": "ipython",
    "version": 3
   },
   "file_extension": ".py",
   "mimetype": "text/x-python",
   "name": "python",
   "nbconvert_exporter": "python",
   "pygments_lexer": "ipython3",
   "version": "3.7.3"
  }
 },
 "nbformat": 4,
 "nbformat_minor": 2
}
